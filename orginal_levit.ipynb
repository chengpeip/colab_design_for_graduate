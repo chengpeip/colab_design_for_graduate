{
  "cells": [
    {
      "cell_type": "markdown",
      "metadata": {
        "id": "view-in-github",
        "colab_type": "text"
      },
      "source": [
        "<a href=\"https://colab.research.google.com/github/chengpeip/colab_design_for_graduate/blob/main/orginal_levit.ipynb\" target=\"_parent\"><img src=\"https://colab.research.google.com/assets/colab-badge.svg\" alt=\"Open In Colab\"/></a>"
      ]
    },
    {
      "cell_type": "code",
      "execution_count": null,
      "metadata": {
        "colab": {
          "base_uri": "https://localhost:8080/"
        },
        "id": "2OgcClmkKWgs",
        "outputId": "6a457e02-9aa8-4b9b-edad-85dbc9ca1fa9"
      },
      "outputs": [
        {
          "output_type": "stream",
          "name": "stdout",
          "text": [
            "Collecting mne\n",
            "  Downloading mne-1.9.0-py3-none-any.whl.metadata (20 kB)\n",
            "Requirement already satisfied: decorator in /usr/local/lib/python3.11/dist-packages (from mne) (4.4.2)\n",
            "Requirement already satisfied: jinja2 in /usr/local/lib/python3.11/dist-packages (from mne) (3.1.6)\n",
            "Requirement already satisfied: lazy-loader>=0.3 in /usr/local/lib/python3.11/dist-packages (from mne) (0.4)\n",
            "Requirement already satisfied: matplotlib>=3.6 in /usr/local/lib/python3.11/dist-packages (from mne) (3.10.0)\n",
            "Requirement already satisfied: numpy<3,>=1.23 in /usr/local/lib/python3.11/dist-packages (from mne) (2.0.2)\n",
            "Requirement already satisfied: packaging in /usr/local/lib/python3.11/dist-packages (from mne) (24.2)\n",
            "Requirement already satisfied: pooch>=1.5 in /usr/local/lib/python3.11/dist-packages (from mne) (1.8.2)\n",
            "Requirement already satisfied: scipy>=1.9 in /usr/local/lib/python3.11/dist-packages (from mne) (1.14.1)\n",
            "Requirement already satisfied: tqdm in /usr/local/lib/python3.11/dist-packages (from mne) (4.67.1)\n",
            "Requirement already satisfied: contourpy>=1.0.1 in /usr/local/lib/python3.11/dist-packages (from matplotlib>=3.6->mne) (1.3.1)\n",
            "Requirement already satisfied: cycler>=0.10 in /usr/local/lib/python3.11/dist-packages (from matplotlib>=3.6->mne) (0.12.1)\n",
            "Requirement already satisfied: fonttools>=4.22.0 in /usr/local/lib/python3.11/dist-packages (from matplotlib>=3.6->mne) (4.57.0)\n",
            "Requirement already satisfied: kiwisolver>=1.3.1 in /usr/local/lib/python3.11/dist-packages (from matplotlib>=3.6->mne) (1.4.8)\n",
            "Requirement already satisfied: pillow>=8 in /usr/local/lib/python3.11/dist-packages (from matplotlib>=3.6->mne) (11.1.0)\n",
            "Requirement already satisfied: pyparsing>=2.3.1 in /usr/local/lib/python3.11/dist-packages (from matplotlib>=3.6->mne) (3.2.3)\n",
            "Requirement already satisfied: python-dateutil>=2.7 in /usr/local/lib/python3.11/dist-packages (from matplotlib>=3.6->mne) (2.8.2)\n",
            "Requirement already satisfied: platformdirs>=2.5.0 in /usr/local/lib/python3.11/dist-packages (from pooch>=1.5->mne) (4.3.7)\n",
            "Requirement already satisfied: requests>=2.19.0 in /usr/local/lib/python3.11/dist-packages (from pooch>=1.5->mne) (2.32.3)\n",
            "Requirement already satisfied: MarkupSafe>=2.0 in /usr/local/lib/python3.11/dist-packages (from jinja2->mne) (3.0.2)\n",
            "Requirement already satisfied: six>=1.5 in /usr/local/lib/python3.11/dist-packages (from python-dateutil>=2.7->matplotlib>=3.6->mne) (1.17.0)\n",
            "Requirement already satisfied: charset-normalizer<4,>=2 in /usr/local/lib/python3.11/dist-packages (from requests>=2.19.0->pooch>=1.5->mne) (3.4.1)\n",
            "Requirement already satisfied: idna<4,>=2.5 in /usr/local/lib/python3.11/dist-packages (from requests>=2.19.0->pooch>=1.5->mne) (3.10)\n",
            "Requirement already satisfied: urllib3<3,>=1.21.1 in /usr/local/lib/python3.11/dist-packages (from requests>=2.19.0->pooch>=1.5->mne) (2.3.0)\n",
            "Requirement already satisfied: certifi>=2017.4.17 in /usr/local/lib/python3.11/dist-packages (from requests>=2.19.0->pooch>=1.5->mne) (2025.1.31)\n",
            "Downloading mne-1.9.0-py3-none-any.whl (7.4 MB)\n",
            "\u001b[2K   \u001b[90m━━━━━━━━━━━━━━━━━━━━━━━━━━━━━━━━━━━━━━━━\u001b[0m \u001b[32m7.4/7.4 MB\u001b[0m \u001b[31m55.0 MB/s\u001b[0m eta \u001b[36m0:00:00\u001b[0m\n",
            "\u001b[?25hInstalling collected packages: mne\n",
            "Successfully installed mne-1.9.0\n"
          ]
        }
      ],
      "source": [
        "!pip install mne"
      ]
    },
    {
      "cell_type": "code",
      "execution_count": null,
      "metadata": {
        "id": "842xLlKoCamn"
      },
      "outputs": [],
      "source": [
        "import os\n",
        "import numpy as np\n",
        "import torch\n",
        "import torch.nn as nn\n",
        "from torch.utils.data import Dataset, DataLoader\n",
        "from einops import rearrange\n",
        "import mne\n",
        "import timm\n",
        "\n",
        "\n",
        "##############################\n",
        "# Step 1: 数据加载与预处理 (使用MNE)\n",
        "##############################\n",
        "\n",
        "# 电极位置映射 (与EDF文件中的通道名称对应)\n",
        "electrode_positions = {\n",
        "    'Fp1': (0, 3), 'Fp2': (0, 5),\n",
        "    'F7': (2, 0), 'F3': (2, 2), 'Fz': (2, 4), 'F4': (2, 6), 'F8': (2, 8),\n",
        "    'T3': (4, 0), 'C3': (4, 2), 'Cz': (4, 4), 'C4': (4, 6), 'T4': (4, 8),\n",
        "    'T5': (6, 0), 'P3': (6, 2), 'Pz': (6, 4), 'P4': (6, 6), 'T6': (6, 8),\n",
        "    'O1': (8, 3), 'O2': (8, 5)\n",
        "}\n",
        "\n",
        "class EEGDataset(Dataset):\n",
        "    def __init__(self, data_folder, window_size=196, fixed_length=225000):\n",
        "        self.files = [f for f in os.listdir(data_folder) if f.endswith('.edf')]\n",
        "        self.labels = [0 if 'h' in f else 1 for f in self.files]\n",
        "        self.channel_names = list(electrode_positions.keys())\n",
        "        self.fixed_length = fixed_length\n",
        "        self.window_size = window_size\n",
        "        self.data_folder = data_folder\n",
        "\n",
        "        # 每个文件可生成多少段图像\n",
        "        self.segments_per_file = fixed_length // window_size\n",
        "        self.total_samples = len(self.files) * self.segments_per_file\n",
        "\n",
        "    def __len__(self):\n",
        "        return self.total_samples\n",
        "\n",
        "    def __getitem__(self, idx):\n",
        "        file_idx = idx // self.segments_per_file\n",
        "        seg_idx = idx % self.segments_per_file\n",
        "\n",
        "        file_path = os.path.join(self.data_folder, self.files[file_idx])\n",
        "        raw = mne.io.read_raw_edf(file_path, preload=True, verbose=False)\n",
        "\n",
        "        if raw.info['sfreq'] != 250:\n",
        "            raw.resample(250, npad='auto')\n",
        "\n",
        "        raw.pick(self.channel_names)\n",
        "\n",
        "        raw.reorder_channels(self.channel_names)\n",
        "\n",
        "        eeg_data, _ = raw[:, :]\n",
        "        eeg_data = eeg_data.T\n",
        "\n",
        "        if eeg_data.shape[0] > self.fixed_length:\n",
        "            eeg_data = eeg_data[:self.fixed_length, :]\n",
        "        else:\n",
        "            pad_size = self.fixed_length - eeg_data.shape[0]\n",
        "            eeg_data = np.pad(eeg_data, ((0, pad_size), (0, 0)), 'constant')\n",
        "\n",
        "        # 归一化\n",
        "        eeg_data = (eeg_data - np.min(eeg_data)) / (np.max(eeg_data) - np.min(eeg_data)) * 255\n",
        "\n",
        "        # 取对应 segment 并转换为图像\n",
        "        start = seg_idx * self.window_size\n",
        "        patch = eeg_data[start:start + self.window_size, :]\n",
        "        frames = [split_brain_lobes(map_to_2d(patch, i)) for i in range(self.window_size)]\n",
        "        image = rearrange(np.stack(frames), '(h w) p1 p2 c -> (h p1) (w p2) c', h=14, w=14)\n",
        "        image = torch.FloatTensor(image).permute(2, 0, 1)  # 转为 [C, H, W] 格式\n",
        "\n",
        "        label = self.labels[file_idx]\n",
        "        return image, label\n",
        "\n",
        "\n",
        "##############################\n",
        "# 后续步骤保持不变（图像转换、模型定义、训练流程）\n",
        "##############################\n",
        "\n",
        "# 其他代码与原始版本相同...\n",
        "\n",
        "##############################\n",
        "# Step 2: EEG信号到图像的转换\n",
        "##############################\n",
        "\n",
        "def map_to_2d(eeg_1d, time_point):\n",
        "    \"\"\"将单个时间点的1D EEG数据映射到9x9矩阵\"\"\"\n",
        "    matrix = np.zeros((9, 9))\n",
        "    for i, channel in enumerate(electrode_positions.keys()):\n",
        "        row, col = electrode_positions[channel]\n",
        "        matrix[row, col] = eeg_1d[time_point, i]  # 假设数据按通道顺序排列\n",
        "    return matrix\n",
        "\n",
        "import numpy as np\n",
        "\n",
        "def split_brain_lobes(matrix):\n",
        "    \"\"\"\n",
        "    将输入的 9x9 矩阵分为3组，每组三行，放入3个通道；\n",
        "    然后将这3个 9x9 矩阵组成一个 9x9x3 的张量；\n",
        "    最后嵌入到 16x16x3 的大矩阵中心。\n",
        "    \"\"\"\n",
        "    # 检查输入\n",
        "    assert matrix.shape == (9, 9), \"输入必须是 9x9 的矩阵\"\n",
        "\n",
        "    # 初始化三个通道为全零矩阵\n",
        "    R = np.zeros((9, 9))\n",
        "    G = np.zeros((9, 9))\n",
        "    B = np.zeros((9, 9))\n",
        "\n",
        "    # 分组填充\n",
        "    R[0:3, :] = matrix[0:3, :]\n",
        "    G[3:6, :] = matrix[3:6, :]\n",
        "    B[6:9, :] = matrix[6:9, :]\n",
        "\n",
        "    # 组合成 9x9x3 的多通道图像\n",
        "    combined = np.stack([R, G, B], axis=-1)  # shape: (9, 9, 3)\n",
        "\n",
        "    # 计算需要 pad 的边界：上下左右各补 (16-9)//2 = 3.5 -> (3,4)\n",
        "    pad_top, pad_bottom = 3, 4\n",
        "    pad_left, pad_right = 3, 4\n",
        "\n",
        "    # 对三维矩阵进行 padding\n",
        "    padded = np.pad(combined, ((pad_top, pad_bottom), (pad_left, pad_right), (0, 0)), mode='constant')\n",
        "\n",
        "    return padded\n",
        "\n",
        "\n",
        "\n"
      ]
    },
    {
      "cell_type": "code",
      "execution_count": null,
      "metadata": {
        "colab": {
          "base_uri": "https://localhost:8080/",
          "height": 416,
          "referenced_widgets": [
            "9bf19d13d428486b9d41e0bd84ff21e8",
            "ef1984ac4968491eaa6a57c75fa351e9",
            "9dd2ef0934bd4cfeaea974ec07a84a03",
            "d67ece9463f6485e9ee91fd0653cc0f9",
            "5d916df940a645c7a45c19b5444f508c",
            "5a7814cf344e4dcebcb5abc4a00586bf",
            "1d65f81db3f744428e8c2eae2057c6d0",
            "73cc3811941348c6a085c999aa6ee306",
            "2733d571617a478d83f9f7770d3753e5",
            "67939ed215244c19afdbfba5fbfbc8a0",
            "51ae6c3ae018431bb4c8042ca33d460a"
          ]
        },
        "id": "eap5-coas7-T",
        "outputId": "0c1b957d-e3a5-4ef7-8b07-9148d0101c76"
      },
      "outputs": [
        {
          "output_type": "stream",
          "name": "stdout",
          "text": [
            "Using device: cpu\n"
          ]
        },
        {
          "output_type": "stream",
          "name": "stderr",
          "text": [
            "/usr/local/lib/python3.11/dist-packages/huggingface_hub/utils/_auth.py:94: UserWarning: \n",
            "The secret `HF_TOKEN` does not exist in your Colab secrets.\n",
            "To authenticate with the Hugging Face Hub, create a token in your settings tab (https://huggingface.co/settings/tokens), set it as secret in your Google Colab and restart your session.\n",
            "You will be able to reuse this secret in all of your notebooks.\n",
            "Please note that authentication is recommended but still optional to access public models or datasets.\n",
            "  warnings.warn(\n"
          ]
        },
        {
          "output_type": "display_data",
          "data": {
            "text/plain": [
              "model.safetensors:   0%|          | 0.00/37.1M [00:00<?, ?B/s]"
            ],
            "application/vnd.jupyter.widget-view+json": {
              "version_major": 2,
              "version_minor": 0,
              "model_id": "9bf19d13d428486b9d41e0bd84ff21e8"
            }
          },
          "metadata": {}
        },
        {
          "output_type": "stream",
          "name": "stderr",
          "text": [
            "Train Epoch 1/20: 100%|██████████| 803/803 [1:22:04<00:00,  6.13s/it, acc=80.04%, loss=0.345, lr=0.0016]\n"
          ]
        },
        {
          "output_type": "stream",
          "name": "stdout",
          "text": [
            "[Epoch 1/20] Train Loss: 0.4150 | Train Acc: 80.04% | Val Acc: 73.45% | LR: 0.000320\n"
          ]
        },
        {
          "output_type": "stream",
          "name": "stderr",
          "text": [
            "Train Epoch 2/20: 100%|██████████| 803/803 [1:23:06<00:00,  6.21s/it, acc=90.14%, loss=0.282, lr=0.00032]\n"
          ]
        },
        {
          "output_type": "stream",
          "name": "stdout",
          "text": [
            "[Epoch 2/20] Train Loss: 0.2249 | Train Acc: 90.14% | Val Acc: 86.94% | LR: 0.000640\n"
          ]
        },
        {
          "output_type": "stream",
          "name": "stderr",
          "text": [
            "Train Epoch 3/20: 100%|██████████| 803/803 [1:26:51<00:00,  6.49s/it, acc=91.19%, loss=0.0728, lr=0.00064]\n"
          ]
        },
        {
          "output_type": "stream",
          "name": "stdout",
          "text": [
            "[Epoch 3/20] Train Loss: 0.2029 | Train Acc: 91.19% | Val Acc: 85.22% | LR: 0.000960\n"
          ]
        },
        {
          "output_type": "stream",
          "name": "stderr",
          "text": [
            "Train Epoch 4/20: 100%|██████████| 803/803 [1:21:01<00:00,  6.05s/it, acc=92.41%, loss=0.158, lr=0.00096]\n"
          ]
        },
        {
          "output_type": "stream",
          "name": "stdout",
          "text": [
            "[Epoch 4/20] Train Loss: 0.1802 | Train Acc: 92.41% | Val Acc: 94.83% | LR: 0.001280\n"
          ]
        },
        {
          "output_type": "stream",
          "name": "stderr",
          "text": [
            "Train Epoch 5/20: 100%|██████████| 803/803 [1:18:15<00:00,  5.85s/it, acc=93.70%, loss=0.172, lr=0.00128]\n"
          ]
        },
        {
          "output_type": "stream",
          "name": "stdout",
          "text": [
            "[Epoch 5/20] Train Loss: 0.1566 | Train Acc: 93.70% | Val Acc: 87.61% | LR: 0.001600\n"
          ]
        },
        {
          "output_type": "stream",
          "name": "stderr",
          "text": [
            "Train Epoch 6/20: 100%|██████████| 803/803 [1:19:44<00:00,  5.96s/it, acc=93.10%, loss=0.122, lr=0.0016]\n"
          ]
        },
        {
          "output_type": "stream",
          "name": "stdout",
          "text": [
            "[Epoch 6/20] Train Loss: 0.1592 | Train Acc: 93.10% | Val Acc: 88.73% | LR: 0.001600\n"
          ]
        },
        {
          "output_type": "stream",
          "name": "stderr",
          "text": [
            "Train Epoch 7/20:  51%|█████     | 410/803 [44:03<38:49,  5.93s/it, acc=93.94%, loss=0.353, lr=0.0016]"
          ]
        }
      ],
      "source": [
        "import torch\n",
        "import torch.nn as nn\n",
        "from torch.utils.data import DataLoader, random_split\n",
        "from tqdm import tqdm\n",
        "import timm\n",
        "import math\n",
        "\n",
        "# 设备设置\n",
        "device = torch.device(\"cuda\" if torch.cuda.is_available() else \"cpu\")\n",
        "print(f\"Using device: {device}\")\n",
        "\n",
        "# 超参数\n",
        "BATCH_SIZE = 32\n",
        "EPOCHS = 20\n",
        "WARMUP_EPOCHS = 5\n",
        "BASE_LR = 0.0005\n",
        "LR = BASE_LR * BATCH_SIZE / 10\n",
        "WEIGHT_DECAY = 0.025\n",
        "VAL_RATIO = 0.2\n",
        "\n",
        "# 数据准备\n",
        "dataset = EEGDataset('/content')\n",
        "\n",
        "# 划分训练集和验证集\n",
        "val_size = int(len(dataset) * VAL_RATIO)\n",
        "train_size = len(dataset) - val_size\n",
        "train_dataset, val_dataset = random_split(dataset, [train_size, val_size])\n",
        "\n",
        "train_loader = DataLoader(train_dataset, batch_size=BATCH_SIZE, shuffle=True)\n",
        "val_loader = DataLoader(val_dataset, batch_size=BATCH_SIZE, shuffle=False)\n",
        "\n",
        "# 模型初始化并移动到 GPU\n",
        "model = timm.create_model('levit_128.fb_dist_in1k', pretrained=True, num_classes=2)\n",
        "model = model.to(device)\n",
        "\n",
        "criterion = nn.CrossEntropyLoss()\n",
        "optimizer = torch.optim.AdamW(model.parameters(), lr=LR, weight_decay=WEIGHT_DECAY)\n",
        "\n",
        "# 训练循环\n",
        "for epoch in range(EPOCHS):\n",
        "    model.train()\n",
        "    total_train_loss = 0.0\n",
        "    correct_train = 0\n",
        "    total_train = 0\n",
        "\n",
        "    # 使用 tqdm 显示训练进度\n",
        "    train_bar = tqdm(train_loader, desc=f\"Train Epoch {epoch+1}/{EPOCHS}\")\n",
        "    for images, labels in train_bar:\n",
        "        images, labels = images.to(device), labels.to(device)\n",
        "\n",
        "        outputs = model(images)\n",
        "        loss = criterion(outputs, labels)\n",
        "\n",
        "        optimizer.zero_grad()\n",
        "        loss.backward()\n",
        "        optimizer.step()\n",
        "\n",
        "        total_train_loss += loss.item()\n",
        "        _, predicted = torch.max(outputs, 1)\n",
        "        correct_train += (predicted == labels).sum().item()\n",
        "        total_train += labels.size(0)\n",
        "\n",
        "        train_acc = 100 * correct_train / total_train\n",
        "        train_bar.set_postfix(loss=loss.item(), acc=f\"{train_acc:.2f}%\", lr=optimizer.param_groups[0]['lr'])\n",
        "\n",
        "    # 学习率调整（warmup + cosine）\n",
        "    if epoch < WARMUP_EPOCHS:\n",
        "        lr_scale = (epoch + 1) / WARMUP_EPOCHS\n",
        "    else:\n",
        "        progress = (epoch - WARMUP_EPOCHS) / (EPOCHS - WARMUP_EPOCHS)\n",
        "        lr_scale = 0.5 * (1 + math.cos(math.pi * progress))\n",
        "    current_lr = LR * lr_scale\n",
        "    for param_group in optimizer.param_groups:\n",
        "        param_group['lr'] = current_lr\n",
        "\n",
        "    # 验证阶段\n",
        "    model.eval()\n",
        "    correct_val = 0\n",
        "    total_val = 0\n",
        "    val_bar = tqdm(val_loader, desc=\"Validating\", leave=False)\n",
        "    with torch.no_grad():\n",
        "        for images, labels in val_bar:\n",
        "            images, labels = images.to(device), labels.to(device)\n",
        "            outputs = model(images)\n",
        "            _, predicted = torch.max(outputs.data, 1)\n",
        "            total_val += labels.size(0)\n",
        "            correct_val += (predicted == labels).sum().item()\n",
        "            val_acc = 100 * correct_val / total_val\n",
        "            val_bar.set_postfix(acc=f\"{val_acc:.2f}%\")\n",
        "\n",
        "    # 训练 & 验证结果总结\n",
        "    epoch_train_loss = total_train_loss / len(train_loader)\n",
        "    epoch_train_acc = 100 * correct_train / total_train\n",
        "    epoch_val_acc = 100 * correct_val / total_val\n",
        "\n",
        "    print(f\"[Epoch {epoch+1}/{EPOCHS}] \"\n",
        "          f\"Train Loss: {epoch_train_loss:.4f} | \"\n",
        "          f\"Train Acc: {epoch_train_acc:.2f}% | \"\n",
        "          f\"Val Acc: {epoch_val_acc:.2f}% | \"\n",
        "          f\"LR: {current_lr:.6f}\")\n"
      ]
    }
  ],
  "metadata": {
    "colab": {
      "provenance": [],
      "authorship_tag": "ABX9TyMy2mv9DLJtt9MApP2MerGU",
      "include_colab_link": true
    },
    "kernelspec": {
      "display_name": "Python 3",
      "name": "python3"
    },
    "language_info": {
      "name": "python"
    },
    "widgets": {
      "application/vnd.jupyter.widget-state+json": {
        "9bf19d13d428486b9d41e0bd84ff21e8": {
          "model_module": "@jupyter-widgets/controls",
          "model_name": "HBoxModel",
          "model_module_version": "1.5.0",
          "state": {
            "_dom_classes": [],
            "_model_module": "@jupyter-widgets/controls",
            "_model_module_version": "1.5.0",
            "_model_name": "HBoxModel",
            "_view_count": null,
            "_view_module": "@jupyter-widgets/controls",
            "_view_module_version": "1.5.0",
            "_view_name": "HBoxView",
            "box_style": "",
            "children": [
              "IPY_MODEL_ef1984ac4968491eaa6a57c75fa351e9",
              "IPY_MODEL_9dd2ef0934bd4cfeaea974ec07a84a03",
              "IPY_MODEL_d67ece9463f6485e9ee91fd0653cc0f9"
            ],
            "layout": "IPY_MODEL_5d916df940a645c7a45c19b5444f508c"
          }
        },
        "ef1984ac4968491eaa6a57c75fa351e9": {
          "model_module": "@jupyter-widgets/controls",
          "model_name": "HTMLModel",
          "model_module_version": "1.5.0",
          "state": {
            "_dom_classes": [],
            "_model_module": "@jupyter-widgets/controls",
            "_model_module_version": "1.5.0",
            "_model_name": "HTMLModel",
            "_view_count": null,
            "_view_module": "@jupyter-widgets/controls",
            "_view_module_version": "1.5.0",
            "_view_name": "HTMLView",
            "description": "",
            "description_tooltip": null,
            "layout": "IPY_MODEL_5a7814cf344e4dcebcb5abc4a00586bf",
            "placeholder": "​",
            "style": "IPY_MODEL_1d65f81db3f744428e8c2eae2057c6d0",
            "value": "model.safetensors: 100%"
          }
        },
        "9dd2ef0934bd4cfeaea974ec07a84a03": {
          "model_module": "@jupyter-widgets/controls",
          "model_name": "FloatProgressModel",
          "model_module_version": "1.5.0",
          "state": {
            "_dom_classes": [],
            "_model_module": "@jupyter-widgets/controls",
            "_model_module_version": "1.5.0",
            "_model_name": "FloatProgressModel",
            "_view_count": null,
            "_view_module": "@jupyter-widgets/controls",
            "_view_module_version": "1.5.0",
            "_view_name": "ProgressView",
            "bar_style": "success",
            "description": "",
            "description_tooltip": null,
            "layout": "IPY_MODEL_73cc3811941348c6a085c999aa6ee306",
            "max": 37093184,
            "min": 0,
            "orientation": "horizontal",
            "style": "IPY_MODEL_2733d571617a478d83f9f7770d3753e5",
            "value": 37093184
          }
        },
        "d67ece9463f6485e9ee91fd0653cc0f9": {
          "model_module": "@jupyter-widgets/controls",
          "model_name": "HTMLModel",
          "model_module_version": "1.5.0",
          "state": {
            "_dom_classes": [],
            "_model_module": "@jupyter-widgets/controls",
            "_model_module_version": "1.5.0",
            "_model_name": "HTMLModel",
            "_view_count": null,
            "_view_module": "@jupyter-widgets/controls",
            "_view_module_version": "1.5.0",
            "_view_name": "HTMLView",
            "description": "",
            "description_tooltip": null,
            "layout": "IPY_MODEL_67939ed215244c19afdbfba5fbfbc8a0",
            "placeholder": "​",
            "style": "IPY_MODEL_51ae6c3ae018431bb4c8042ca33d460a",
            "value": " 37.1M/37.1M [00:00&lt;00:00, 72.3MB/s]"
          }
        },
        "5d916df940a645c7a45c19b5444f508c": {
          "model_module": "@jupyter-widgets/base",
          "model_name": "LayoutModel",
          "model_module_version": "1.2.0",
          "state": {
            "_model_module": "@jupyter-widgets/base",
            "_model_module_version": "1.2.0",
            "_model_name": "LayoutModel",
            "_view_count": null,
            "_view_module": "@jupyter-widgets/base",
            "_view_module_version": "1.2.0",
            "_view_name": "LayoutView",
            "align_content": null,
            "align_items": null,
            "align_self": null,
            "border": null,
            "bottom": null,
            "display": null,
            "flex": null,
            "flex_flow": null,
            "grid_area": null,
            "grid_auto_columns": null,
            "grid_auto_flow": null,
            "grid_auto_rows": null,
            "grid_column": null,
            "grid_gap": null,
            "grid_row": null,
            "grid_template_areas": null,
            "grid_template_columns": null,
            "grid_template_rows": null,
            "height": null,
            "justify_content": null,
            "justify_items": null,
            "left": null,
            "margin": null,
            "max_height": null,
            "max_width": null,
            "min_height": null,
            "min_width": null,
            "object_fit": null,
            "object_position": null,
            "order": null,
            "overflow": null,
            "overflow_x": null,
            "overflow_y": null,
            "padding": null,
            "right": null,
            "top": null,
            "visibility": null,
            "width": null
          }
        },
        "5a7814cf344e4dcebcb5abc4a00586bf": {
          "model_module": "@jupyter-widgets/base",
          "model_name": "LayoutModel",
          "model_module_version": "1.2.0",
          "state": {
            "_model_module": "@jupyter-widgets/base",
            "_model_module_version": "1.2.0",
            "_model_name": "LayoutModel",
            "_view_count": null,
            "_view_module": "@jupyter-widgets/base",
            "_view_module_version": "1.2.0",
            "_view_name": "LayoutView",
            "align_content": null,
            "align_items": null,
            "align_self": null,
            "border": null,
            "bottom": null,
            "display": null,
            "flex": null,
            "flex_flow": null,
            "grid_area": null,
            "grid_auto_columns": null,
            "grid_auto_flow": null,
            "grid_auto_rows": null,
            "grid_column": null,
            "grid_gap": null,
            "grid_row": null,
            "grid_template_areas": null,
            "grid_template_columns": null,
            "grid_template_rows": null,
            "height": null,
            "justify_content": null,
            "justify_items": null,
            "left": null,
            "margin": null,
            "max_height": null,
            "max_width": null,
            "min_height": null,
            "min_width": null,
            "object_fit": null,
            "object_position": null,
            "order": null,
            "overflow": null,
            "overflow_x": null,
            "overflow_y": null,
            "padding": null,
            "right": null,
            "top": null,
            "visibility": null,
            "width": null
          }
        },
        "1d65f81db3f744428e8c2eae2057c6d0": {
          "model_module": "@jupyter-widgets/controls",
          "model_name": "DescriptionStyleModel",
          "model_module_version": "1.5.0",
          "state": {
            "_model_module": "@jupyter-widgets/controls",
            "_model_module_version": "1.5.0",
            "_model_name": "DescriptionStyleModel",
            "_view_count": null,
            "_view_module": "@jupyter-widgets/base",
            "_view_module_version": "1.2.0",
            "_view_name": "StyleView",
            "description_width": ""
          }
        },
        "73cc3811941348c6a085c999aa6ee306": {
          "model_module": "@jupyter-widgets/base",
          "model_name": "LayoutModel",
          "model_module_version": "1.2.0",
          "state": {
            "_model_module": "@jupyter-widgets/base",
            "_model_module_version": "1.2.0",
            "_model_name": "LayoutModel",
            "_view_count": null,
            "_view_module": "@jupyter-widgets/base",
            "_view_module_version": "1.2.0",
            "_view_name": "LayoutView",
            "align_content": null,
            "align_items": null,
            "align_self": null,
            "border": null,
            "bottom": null,
            "display": null,
            "flex": null,
            "flex_flow": null,
            "grid_area": null,
            "grid_auto_columns": null,
            "grid_auto_flow": null,
            "grid_auto_rows": null,
            "grid_column": null,
            "grid_gap": null,
            "grid_row": null,
            "grid_template_areas": null,
            "grid_template_columns": null,
            "grid_template_rows": null,
            "height": null,
            "justify_content": null,
            "justify_items": null,
            "left": null,
            "margin": null,
            "max_height": null,
            "max_width": null,
            "min_height": null,
            "min_width": null,
            "object_fit": null,
            "object_position": null,
            "order": null,
            "overflow": null,
            "overflow_x": null,
            "overflow_y": null,
            "padding": null,
            "right": null,
            "top": null,
            "visibility": null,
            "width": null
          }
        },
        "2733d571617a478d83f9f7770d3753e5": {
          "model_module": "@jupyter-widgets/controls",
          "model_name": "ProgressStyleModel",
          "model_module_version": "1.5.0",
          "state": {
            "_model_module": "@jupyter-widgets/controls",
            "_model_module_version": "1.5.0",
            "_model_name": "ProgressStyleModel",
            "_view_count": null,
            "_view_module": "@jupyter-widgets/base",
            "_view_module_version": "1.2.0",
            "_view_name": "StyleView",
            "bar_color": null,
            "description_width": ""
          }
        },
        "67939ed215244c19afdbfba5fbfbc8a0": {
          "model_module": "@jupyter-widgets/base",
          "model_name": "LayoutModel",
          "model_module_version": "1.2.0",
          "state": {
            "_model_module": "@jupyter-widgets/base",
            "_model_module_version": "1.2.0",
            "_model_name": "LayoutModel",
            "_view_count": null,
            "_view_module": "@jupyter-widgets/base",
            "_view_module_version": "1.2.0",
            "_view_name": "LayoutView",
            "align_content": null,
            "align_items": null,
            "align_self": null,
            "border": null,
            "bottom": null,
            "display": null,
            "flex": null,
            "flex_flow": null,
            "grid_area": null,
            "grid_auto_columns": null,
            "grid_auto_flow": null,
            "grid_auto_rows": null,
            "grid_column": null,
            "grid_gap": null,
            "grid_row": null,
            "grid_template_areas": null,
            "grid_template_columns": null,
            "grid_template_rows": null,
            "height": null,
            "justify_content": null,
            "justify_items": null,
            "left": null,
            "margin": null,
            "max_height": null,
            "max_width": null,
            "min_height": null,
            "min_width": null,
            "object_fit": null,
            "object_position": null,
            "order": null,
            "overflow": null,
            "overflow_x": null,
            "overflow_y": null,
            "padding": null,
            "right": null,
            "top": null,
            "visibility": null,
            "width": null
          }
        },
        "51ae6c3ae018431bb4c8042ca33d460a": {
          "model_module": "@jupyter-widgets/controls",
          "model_name": "DescriptionStyleModel",
          "model_module_version": "1.5.0",
          "state": {
            "_model_module": "@jupyter-widgets/controls",
            "_model_module_version": "1.5.0",
            "_model_name": "DescriptionStyleModel",
            "_view_count": null,
            "_view_module": "@jupyter-widgets/base",
            "_view_module_version": "1.2.0",
            "_view_name": "StyleView",
            "description_width": ""
          }
        }
      }
    }
  },
  "nbformat": 4,
  "nbformat_minor": 0
}